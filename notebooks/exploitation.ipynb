{
 "cells": [
  {
   "cell_type": "code",
   "execution_count": 21,
   "metadata": {},
   "outputs": [],
   "source": [
    "import numpy as np\n",
    "import pandas as pd\n",
    "import sys\n",
    "import os\n",
    "import duckdb\n",
    "sys.path.append('..')\n",
    "from helper import *\n",
    "setwd()\n",
    "\n",
    "Objects = Objects()"
   ]
  },
  {
   "cell_type": "code",
   "execution_count": 13,
   "metadata": {},
   "outputs": [
    {
     "data": {
      "text/plain": [
       "[]"
      ]
     },
     "execution_count": 13,
     "metadata": {},
     "output_type": "execute_result"
    }
   ],
   "source": [
    "con.execute(\"SHOW TABLES\").fetchall()"
   ]
  },
  {
   "cell_type": "code",
   "execution_count": 23,
   "metadata": {},
   "outputs": [],
   "source": [
    "con.close()"
   ]
  },
  {
   "cell_type": "code",
   "execution_count": 24,
   "metadata": {},
   "outputs": [
    {
     "data": {
      "text/plain": [
       "[('hospitals',),\n",
       " ('hospitals_profiling',),\n",
       " ('housing',),\n",
       " ('housing_profiling',),\n",
       " ('schools',),\n",
       " ('schools_profiling',)]"
      ]
     },
     "execution_count": 24,
     "metadata": {},
     "output_type": "execute_result"
    }
   ],
   "source": [
    "con = duckdb.connect(database = \"./data/exploitation/exploitation.db\", read_only=False)\n",
    "\n",
    "for datasource in Objects:\n",
    "    id = datasource['id']\n",
    "    con_trust = duckdb.connect(database = f\"data/trusted/db_{id}.db\")\n",
    "    con_trust.execute(\"EXPORT DATABASE './temp'\")\n",
    "    con_trust.close()\n",
    "    con.execute(f\"IMPORT DATABASE './temp'\")\n",
    "\n",
    "con.execute(\"SHOW TABLES\").fetchall()"
   ]
  },
  {
   "cell_type": "code",
   "execution_count": 25,
   "metadata": {},
   "outputs": [],
   "source": [
    "!rm ./temp/*"
   ]
  },
  {
   "cell_type": "code",
   "execution_count": 26,
   "metadata": {},
   "outputs": [
    {
     "data": {
      "text/plain": [
       "<bound method NDFrame.head of             lat      long\n",
       "0       29.5920  -98.4700\n",
       "1       29.5042  -98.5697\n",
       "2       29.3595  -98.4499\n",
       "3       29.4682  -98.5298\n",
       "4       29.3466  -98.5074\n",
       "...         ...       ...\n",
       "384972  35.1898 -101.9340\n",
       "384973  34.9829 -101.9020\n",
       "384974  35.1653 -101.8840\n",
       "384975  35.1653 -101.8840\n",
       "384976  35.1653 -101.8840\n",
       "\n",
       "[384977 rows x 2 columns]>"
      ]
     },
     "execution_count": 26,
     "metadata": {},
     "output_type": "execute_result"
    }
   ],
   "source": [
    "# lat long\n",
    "con.execute(\"CREATE OR REPLACE TABLE pos_house AS SELECT lat, long FROM housing;\")\n",
    "con.execute(\"SELECT * FROM pos_house;\").fetchdf().head"
   ]
  },
  {
   "cell_type": "code",
   "execution_count": 27,
   "metadata": {},
   "outputs": [
    {
     "data": {
      "text/html": [
       "<div>\n",
       "<style scoped>\n",
       "    .dataframe tbody tr th:only-of-type {\n",
       "        vertical-align: middle;\n",
       "    }\n",
       "\n",
       "    .dataframe tbody tr th {\n",
       "        vertical-align: top;\n",
       "    }\n",
       "\n",
       "    .dataframe thead th {\n",
       "        text-align: right;\n",
       "    }\n",
       "</style>\n",
       "<table border=\"1\" class=\"dataframe\">\n",
       "  <thead>\n",
       "    <tr style=\"text-align: right;\">\n",
       "      <th></th>\n",
       "      <th>lat</th>\n",
       "      <th>long</th>\n",
       "      <th>count_star()</th>\n",
       "    </tr>\n",
       "  </thead>\n",
       "  <tbody>\n",
       "    <tr>\n",
       "      <th>0</th>\n",
       "      <td>38.8518</td>\n",
       "      <td>-94.3944</td>\n",
       "      <td>38</td>\n",
       "    </tr>\n",
       "    <tr>\n",
       "      <th>1</th>\n",
       "      <td>39.0754</td>\n",
       "      <td>-94.5738</td>\n",
       "      <td>1</td>\n",
       "    </tr>\n",
       "    <tr>\n",
       "      <th>2</th>\n",
       "      <td>38.9583</td>\n",
       "      <td>-94.6332</td>\n",
       "      <td>5</td>\n",
       "    </tr>\n",
       "    <tr>\n",
       "      <th>3</th>\n",
       "      <td>39.2168</td>\n",
       "      <td>-94.5680</td>\n",
       "      <td>1</td>\n",
       "    </tr>\n",
       "    <tr>\n",
       "      <th>4</th>\n",
       "      <td>39.1024</td>\n",
       "      <td>-94.5986</td>\n",
       "      <td>8</td>\n",
       "    </tr>\n",
       "  </tbody>\n",
       "</table>\n",
       "</div>"
      ],
      "text/plain": [
       "       lat     long  count_star()\n",
       "0  38.8518 -94.3944            38\n",
       "1  39.0754 -94.5738             1\n",
       "2  38.9583 -94.6332             5\n",
       "3  39.2168 -94.5680             1\n",
       "4  39.1024 -94.5986             8"
      ]
     },
     "execution_count": 27,
     "metadata": {},
     "output_type": "execute_result"
    }
   ],
   "source": [
    "con.execute(\"\"\"SELECT lat, long, COUNT(*) FROM pos_house GROUP BY lat, long\"\"\").fetchdf().head()"
   ]
  },
  {
   "cell_type": "code",
   "execution_count": 32,
   "metadata": {},
   "outputs": [
    {
     "data": {
      "text/plain": [
       "[(3.141592653589793,)]"
      ]
     },
     "execution_count": 32,
     "metadata": {},
     "output_type": "execute_result"
    }
   ],
   "source": [
    "con.execute(\"select pi()\").fetchall()"
   ]
  },
  {
   "cell_type": "markdown",
   "metadata": {},
   "source": [
    "**distances filter:**\n",
    "\n",
    "for each place (either house, school, hospital), we have its latitude and longitude (in degrees)\n",
    "\n",
    "when the points are close enough, we can compute the distances using the formula of the distance on a plane, d^2 = dx^2 + dy^2\n",
    "\n",
    "in this case, y = R·latitude and x = R·longitude·cos(latitude), where R is the Earth radius and latitude and longitude are in radians\n",
    "\n",
    "hence, we define a new variable long_cos_lat = long(deg)·cos(latitude). Therefore, we can query the distances using the formula: \n",
    "\n",
    "d^2 = R^2 · pi^2/180^2 · ( ( long_cos_lat_1 - long_cos_lat_2 )^2 + (lat_1 - lat_2)^2 )"
   ]
  },
  {
   "cell_type": "code",
   "execution_count": 41,
   "metadata": {},
   "outputs": [
    {
     "data": {
      "text/plain": [
       "'0.8087793508722445'"
      ]
     },
     "execution_count": 41,
     "metadata": {},
     "output_type": "execute_result"
    }
   ],
   "source": [
    "distance = 100 # distance in km\n",
    "distance_transformed = str(( distance / (6371*np.pi/180) )**2 )\n",
    "distance_transformed"
   ]
  },
  {
   "cell_type": "code",
   "execution_count": 50,
   "metadata": {},
   "outputs": [
    {
     "name": "stdout",
     "output_type": "stream",
     "text": [
      "CPU times: total: 3.83 s\n",
      "Wall time: 4.01 s\n"
     ]
    },
    {
     "data": {
      "text/plain": [
       "[(3856,)]"
      ]
     },
     "execution_count": 50,
     "metadata": {},
     "output_type": "execute_result"
    }
   ],
   "source": [
    "%%time\n",
    "con.execute(f\"\"\"\n",
    "create or replace table pos_house_hospital as (\n",
    "with H as (SELECT *, long*cos(lat*pi()/180) as long_cos_lat FROM pos_house limit 10000),\n",
    "S as (SELECT X, Y, X*cos(Y*pi()/180) as X_cos_Y, objectid, type, beds, owner from hospitals)\n",
    "SELECT\n",
    "    lat, long,\n",
    "    count(S.objectid) as num_hospitals,\n",
    "    sum(S.beds) as num_beds,\n",
    "    sum(if(S.type='GENERAL ACUTE CARE', 1, 0)) as hospital_type_general,\n",
    "    sum(if(S.type='CRITICAL ACCESS', 1, 0)) as hospital_type_critical,\n",
    "    sum(if(S.type='PSYCHIATRIC', 1, 0)) as hospital_type_psychiatric,\n",
    "    sum(if(S.type='LONG TERM CARE', 1, 0)) as hospital_type_longterm,\n",
    "    sum(if(S.type='CHILDREN', 1, 0)) as hospital_type_children,\n",
    "    sum(if(S.owner in('GOVERNMENT - DISTRICT/AUTHORITY', 'GOVERNMENT - FEDERAL',\n",
    "        'GOVERNMENT - LOCAL', 'GOVERNMENT - STATE'), 1, 0)) as government_hospital,\n",
    "    sum(if(S.owner = 'NON-PROFIT', 1, 0)) as nonprofit_hospital,\n",
    "    sum(if(S.owner='PROPRIETARY', 1, 0)) as private_hospital,\n",
    "    \n",
    "FROM H left join S on (\n",
    "    (H.long_cos_lat - S.X_cos_Y)*(H.long_cos_lat - S.X_cos_Y) + (H.lat - S.Y)*(H.lat - S.Y) < {distance_transformed}\n",
    ")\n",
    "GROUP BY lat, long\n",
    ")\n",
    "\"\"\").fetchall()"
   ]
  },
  {
   "cell_type": "code",
   "execution_count": 53,
   "metadata": {},
   "outputs": [
    {
     "data": {
      "text/html": [
       "<div>\n",
       "<style scoped>\n",
       "    .dataframe tbody tr th:only-of-type {\n",
       "        vertical-align: middle;\n",
       "    }\n",
       "\n",
       "    .dataframe tbody tr th {\n",
       "        vertical-align: top;\n",
       "    }\n",
       "\n",
       "    .dataframe thead th {\n",
       "        text-align: right;\n",
       "    }\n",
       "</style>\n",
       "<table border=\"1\" class=\"dataframe\">\n",
       "  <thead>\n",
       "    <tr style=\"text-align: right;\">\n",
       "      <th></th>\n",
       "      <th>lat</th>\n",
       "      <th>long</th>\n",
       "      <th>num_hospitals</th>\n",
       "      <th>num_beds</th>\n",
       "      <th>hospital_type_general</th>\n",
       "      <th>hospital_type_critical</th>\n",
       "      <th>hospital_type_psychiatric</th>\n",
       "      <th>hospital_type_longterm</th>\n",
       "      <th>hospital_type_children</th>\n",
       "      <th>government_hospital</th>\n",
       "      <th>nonprofit_hospital</th>\n",
       "      <th>private_hospital</th>\n",
       "    </tr>\n",
       "  </thead>\n",
       "  <tbody>\n",
       "    <tr>\n",
       "      <th>0</th>\n",
       "      <td>45.6721</td>\n",
       "      <td>-122.5470</td>\n",
       "      <td>3</td>\n",
       "      <td>1080.0</td>\n",
       "      <td>3.0</td>\n",
       "      <td>0.0</td>\n",
       "      <td>0.0</td>\n",
       "      <td>0.0</td>\n",
       "      <td>0.0</td>\n",
       "      <td>0.0</td>\n",
       "      <td>3.0</td>\n",
       "      <td>0.0</td>\n",
       "    </tr>\n",
       "    <tr>\n",
       "      <th>1</th>\n",
       "      <td>45.5408</td>\n",
       "      <td>-122.5780</td>\n",
       "      <td>6</td>\n",
       "      <td>458.0</td>\n",
       "      <td>5.0</td>\n",
       "      <td>0.0</td>\n",
       "      <td>0.0</td>\n",
       "      <td>1.0</td>\n",
       "      <td>0.0</td>\n",
       "      <td>1.0</td>\n",
       "      <td>4.0</td>\n",
       "      <td>1.0</td>\n",
       "    </tr>\n",
       "    <tr>\n",
       "      <th>2</th>\n",
       "      <td>45.6359</td>\n",
       "      <td>-122.5160</td>\n",
       "      <td>22</td>\n",
       "      <td>7920.0</td>\n",
       "      <td>22.0</td>\n",
       "      <td>0.0</td>\n",
       "      <td>0.0</td>\n",
       "      <td>0.0</td>\n",
       "      <td>0.0</td>\n",
       "      <td>0.0</td>\n",
       "      <td>22.0</td>\n",
       "      <td>0.0</td>\n",
       "    </tr>\n",
       "    <tr>\n",
       "      <th>3</th>\n",
       "      <td>45.5415</td>\n",
       "      <td>-122.5760</td>\n",
       "      <td>12</td>\n",
       "      <td>916.0</td>\n",
       "      <td>10.0</td>\n",
       "      <td>0.0</td>\n",
       "      <td>0.0</td>\n",
       "      <td>2.0</td>\n",
       "      <td>0.0</td>\n",
       "      <td>2.0</td>\n",
       "      <td>8.0</td>\n",
       "      <td>2.0</td>\n",
       "    </tr>\n",
       "    <tr>\n",
       "      <th>4</th>\n",
       "      <td>45.5556</td>\n",
       "      <td>-122.5560</td>\n",
       "      <td>4</td>\n",
       "      <td>1050.0</td>\n",
       "      <td>3.0</td>\n",
       "      <td>0.0</td>\n",
       "      <td>0.0</td>\n",
       "      <td>1.0</td>\n",
       "      <td>0.0</td>\n",
       "      <td>0.0</td>\n",
       "      <td>3.0</td>\n",
       "      <td>1.0</td>\n",
       "    </tr>\n",
       "    <tr>\n",
       "      <th>...</th>\n",
       "      <td>...</td>\n",
       "      <td>...</td>\n",
       "      <td>...</td>\n",
       "      <td>...</td>\n",
       "      <td>...</td>\n",
       "      <td>...</td>\n",
       "      <td>...</td>\n",
       "      <td>...</td>\n",
       "      <td>...</td>\n",
       "      <td>...</td>\n",
       "      <td>...</td>\n",
       "      <td>...</td>\n",
       "    </tr>\n",
       "    <tr>\n",
       "      <th>79685</th>\n",
       "      <td>36.0480</td>\n",
       "      <td>-95.7835</td>\n",
       "      <td>6</td>\n",
       "      <td>442.0</td>\n",
       "      <td>3.0</td>\n",
       "      <td>0.0</td>\n",
       "      <td>0.0</td>\n",
       "      <td>0.0</td>\n",
       "      <td>0.0</td>\n",
       "      <td>0.0</td>\n",
       "      <td>2.0</td>\n",
       "      <td>3.0</td>\n",
       "    </tr>\n",
       "    <tr>\n",
       "      <th>79686</th>\n",
       "      <td>46.7327</td>\n",
       "      <td>-120.7140</td>\n",
       "      <td>0</td>\n",
       "      <td>NaN</td>\n",
       "      <td>0.0</td>\n",
       "      <td>0.0</td>\n",
       "      <td>0.0</td>\n",
       "      <td>0.0</td>\n",
       "      <td>0.0</td>\n",
       "      <td>0.0</td>\n",
       "      <td>0.0</td>\n",
       "      <td>0.0</td>\n",
       "    </tr>\n",
       "    <tr>\n",
       "      <th>79687</th>\n",
       "      <td>37.4580</td>\n",
       "      <td>-77.4700</td>\n",
       "      <td>4</td>\n",
       "      <td>473.0</td>\n",
       "      <td>3.0</td>\n",
       "      <td>0.0</td>\n",
       "      <td>0.0</td>\n",
       "      <td>0.0</td>\n",
       "      <td>0.0</td>\n",
       "      <td>2.0</td>\n",
       "      <td>0.0</td>\n",
       "      <td>2.0</td>\n",
       "    </tr>\n",
       "    <tr>\n",
       "      <th>79688</th>\n",
       "      <td>36.2809</td>\n",
       "      <td>-95.8639</td>\n",
       "      <td>2</td>\n",
       "      <td>109.0</td>\n",
       "      <td>2.0</td>\n",
       "      <td>0.0</td>\n",
       "      <td>0.0</td>\n",
       "      <td>0.0</td>\n",
       "      <td>0.0</td>\n",
       "      <td>0.0</td>\n",
       "      <td>1.0</td>\n",
       "      <td>1.0</td>\n",
       "    </tr>\n",
       "    <tr>\n",
       "      <th>79689</th>\n",
       "      <td>44.0594</td>\n",
       "      <td>-123.0000</td>\n",
       "      <td>3</td>\n",
       "      <td>-503.0</td>\n",
       "      <td>3.0</td>\n",
       "      <td>0.0</td>\n",
       "      <td>0.0</td>\n",
       "      <td>0.0</td>\n",
       "      <td>0.0</td>\n",
       "      <td>0.0</td>\n",
       "      <td>2.0</td>\n",
       "      <td>1.0</td>\n",
       "    </tr>\n",
       "  </tbody>\n",
       "</table>\n",
       "<p>79690 rows × 12 columns</p>\n",
       "</div>"
      ],
      "text/plain": [
       "           lat      long  num_hospitals  num_beds  hospital_type_general  \\\n",
       "0      45.6721 -122.5470              3    1080.0                    3.0   \n",
       "1      45.5408 -122.5780              6     458.0                    5.0   \n",
       "2      45.6359 -122.5160             22    7920.0                   22.0   \n",
       "3      45.5415 -122.5760             12     916.0                   10.0   \n",
       "4      45.5556 -122.5560              4    1050.0                    3.0   \n",
       "...        ...       ...            ...       ...                    ...   \n",
       "79685  36.0480  -95.7835              6     442.0                    3.0   \n",
       "79686  46.7327 -120.7140              0       NaN                    0.0   \n",
       "79687  37.4580  -77.4700              4     473.0                    3.0   \n",
       "79688  36.2809  -95.8639              2     109.0                    2.0   \n",
       "79689  44.0594 -123.0000              3    -503.0                    3.0   \n",
       "\n",
       "       hospital_type_critical  hospital_type_psychiatric  \\\n",
       "0                         0.0                        0.0   \n",
       "1                         0.0                        0.0   \n",
       "2                         0.0                        0.0   \n",
       "3                         0.0                        0.0   \n",
       "4                         0.0                        0.0   \n",
       "...                       ...                        ...   \n",
       "79685                     0.0                        0.0   \n",
       "79686                     0.0                        0.0   \n",
       "79687                     0.0                        0.0   \n",
       "79688                     0.0                        0.0   \n",
       "79689                     0.0                        0.0   \n",
       "\n",
       "       hospital_type_longterm  hospital_type_children  government_hospital  \\\n",
       "0                         0.0                     0.0                  0.0   \n",
       "1                         1.0                     0.0                  1.0   \n",
       "2                         0.0                     0.0                  0.0   \n",
       "3                         2.0                     0.0                  2.0   \n",
       "4                         1.0                     0.0                  0.0   \n",
       "...                       ...                     ...                  ...   \n",
       "79685                     0.0                     0.0                  0.0   \n",
       "79686                     0.0                     0.0                  0.0   \n",
       "79687                     0.0                     0.0                  2.0   \n",
       "79688                     0.0                     0.0                  0.0   \n",
       "79689                     0.0                     0.0                  0.0   \n",
       "\n",
       "       nonprofit_hospital  private_hospital  \n",
       "0                     3.0               0.0  \n",
       "1                     4.0               1.0  \n",
       "2                    22.0               0.0  \n",
       "3                     8.0               2.0  \n",
       "4                     3.0               1.0  \n",
       "...                   ...               ...  \n",
       "79685                 2.0               3.0  \n",
       "79686                 0.0               0.0  \n",
       "79687                 0.0               2.0  \n",
       "79688                 1.0               1.0  \n",
       "79689                 2.0               1.0  \n",
       "\n",
       "[79690 rows x 12 columns]"
      ]
     },
     "execution_count": 53,
     "metadata": {},
     "output_type": "execute_result"
    }
   ],
   "source": [
    "con.execute(\"SELECT * FROM pos_house_hospital;\").fetchdf()"
   ]
  },
  {
   "cell_type": "code",
   "execution_count": 48,
   "metadata": {},
   "outputs": [
    {
     "data": {
      "text/plain": [
       "<duckdb.DuckDBPyConnection at 0x1c3633de470>"
      ]
     },
     "execution_count": 48,
     "metadata": {},
     "output_type": "execute_result"
    }
   ],
   "source": [
    "df_schools = con.execute(\"SELECT * FROM schools;\").fetchdf()\n",
    "df_schools[\"LEVEL_\"].replace(\"N\",\"unknown\", inplace=True)\n",
    "df_schools[\"LEVEL_\"].replace(\"1\",\"preschool\", inplace=True)\n",
    "df_schools[\"LEVEL_\"].replace(\"2\",\"elementary_school\", inplace=True)\n",
    "df_schools[\"LEVEL_\"].replace(\"3\",\"middle_school\", inplace=True)\n",
    "df_schools[\"LEVEL_\"].replace(\"4\",\"high_school\", inplace=True)\n",
    "con.execute(\"CREATE OR REPLACE TABLE schools AS SELECT * FROM df_schools;\")"
   ]
  },
  {
   "cell_type": "code",
   "execution_count": 49,
   "metadata": {},
   "outputs": [
    {
     "data": {
      "text/html": [
       "<div>\n",
       "<style scoped>\n",
       "    .dataframe tbody tr th:only-of-type {\n",
       "        vertical-align: middle;\n",
       "    }\n",
       "\n",
       "    .dataframe tbody tr th {\n",
       "        vertical-align: top;\n",
       "    }\n",
       "\n",
       "    .dataframe thead th {\n",
       "        text-align: right;\n",
       "    }\n",
       "</style>\n",
       "<table border=\"1\" class=\"dataframe\">\n",
       "  <thead>\n",
       "    <tr style=\"text-align: right;\">\n",
       "      <th></th>\n",
       "      <th>X</th>\n",
       "      <th>Y</th>\n",
       "      <th>OBJECTID</th>\n",
       "      <th>NCESID</th>\n",
       "      <th>NAME</th>\n",
       "      <th>ADDRESS</th>\n",
       "      <th>CITY</th>\n",
       "      <th>STATE</th>\n",
       "      <th>ZIP</th>\n",
       "      <th>ZIP4</th>\n",
       "      <th>...</th>\n",
       "      <th>VAL_METHOD</th>\n",
       "      <th>VAL_DATE</th>\n",
       "      <th>WEBSITE</th>\n",
       "      <th>LEVEL_</th>\n",
       "      <th>ENROLLMENT</th>\n",
       "      <th>ST_GRADE</th>\n",
       "      <th>END_GRADE</th>\n",
       "      <th>DISTRICTID</th>\n",
       "      <th>FT_TEACHER</th>\n",
       "      <th>SHELTER_ID</th>\n",
       "    </tr>\n",
       "  </thead>\n",
       "  <tbody>\n",
       "    <tr>\n",
       "      <th>0</th>\n",
       "      <td>-74.062989</td>\n",
       "      <td>40.898942</td>\n",
       "      <td>19537</td>\n",
       "      <td>340000700081</td>\n",
       "      <td>MAYWOOD CAMPUS</td>\n",
       "      <td>404 MAYWOOD AVENUE</td>\n",
       "      <td>MAYWOOD</td>\n",
       "      <td>NJ</td>\n",
       "      <td>7607</td>\n",
       "      <td>unknow</td>\n",
       "      <td>...</td>\n",
       "      <td>IMAGERY/OTHER</td>\n",
       "      <td>2016-08-05</td>\n",
       "      <td>http://nces.ed.gov/GLOBALLOCATOR/sch_info_popu...</td>\n",
       "      <td>preschool</td>\n",
       "      <td>152</td>\n",
       "      <td>PK</td>\n",
       "      <td>05</td>\n",
       "      <td>3400007</td>\n",
       "      <td>26</td>\n",
       "      <td>unknow</td>\n",
       "    </tr>\n",
       "    <tr>\n",
       "      <th>1</th>\n",
       "      <td>-97.073579</td>\n",
       "      <td>36.710031</td>\n",
       "      <td>19543</td>\n",
       "      <td>402469002367</td>\n",
       "      <td>ROOSEVELT ES</td>\n",
       "      <td>815 EAST HIGHLAND AVENUE</td>\n",
       "      <td>PONCA CITY</td>\n",
       "      <td>OK</td>\n",
       "      <td>74601</td>\n",
       "      <td>4601</td>\n",
       "      <td>...</td>\n",
       "      <td>IMAGERY/OTHER</td>\n",
       "      <td>2016-08-31</td>\n",
       "      <td>http://nces.ed.gov/GLOBALLOCATOR/sch_info_popu...</td>\n",
       "      <td>preschool</td>\n",
       "      <td>441</td>\n",
       "      <td>PK</td>\n",
       "      <td>05</td>\n",
       "      <td>4024690</td>\n",
       "      <td>22</td>\n",
       "      <td>unknow</td>\n",
       "    </tr>\n",
       "    <tr>\n",
       "      <th>2</th>\n",
       "      <td>-79.754242</td>\n",
       "      <td>40.493811</td>\n",
       "      <td>19544</td>\n",
       "      <td>421935007298</td>\n",
       "      <td>PIVIK EL SCH</td>\n",
       "      <td>151 SCHOOL RD</td>\n",
       "      <td>PITTSBURGH</td>\n",
       "      <td>PA</td>\n",
       "      <td>15239</td>\n",
       "      <td>unknow</td>\n",
       "      <td>...</td>\n",
       "      <td>IMAGERY/OTHER</td>\n",
       "      <td>2016-09-02</td>\n",
       "      <td>http://nces.ed.gov/GLOBALLOCATOR/sch_info_popu...</td>\n",
       "      <td>preschool</td>\n",
       "      <td>582</td>\n",
       "      <td>KG</td>\n",
       "      <td>06</td>\n",
       "      <td>4219350</td>\n",
       "      <td>33</td>\n",
       "      <td>unknow</td>\n",
       "    </tr>\n",
       "    <tr>\n",
       "      <th>3</th>\n",
       "      <td>-89.044860</td>\n",
       "      <td>36.418973</td>\n",
       "      <td>19545</td>\n",
       "      <td>470426001730</td>\n",
       "      <td>UNION CITY MIDDLE SCHOOL</td>\n",
       "      <td>1111 HIGH SCHOOL DR</td>\n",
       "      <td>UNION CITY</td>\n",
       "      <td>TN</td>\n",
       "      <td>38261</td>\n",
       "      <td>unknow</td>\n",
       "      <td>...</td>\n",
       "      <td>IMAGERY</td>\n",
       "      <td>2016-09-19</td>\n",
       "      <td>http://nces.ed.gov/GLOBALLOCATOR/sch_info_popu...</td>\n",
       "      <td>elementary_school</td>\n",
       "      <td>353</td>\n",
       "      <td>06</td>\n",
       "      <td>08</td>\n",
       "      <td>4704260</td>\n",
       "      <td>21</td>\n",
       "      <td>unknow</td>\n",
       "    </tr>\n",
       "    <tr>\n",
       "      <th>4</th>\n",
       "      <td>-95.521884</td>\n",
       "      <td>29.724352</td>\n",
       "      <td>19546</td>\n",
       "      <td>482364002556</td>\n",
       "      <td>PINEY POINT EL</td>\n",
       "      <td>8921 PAGEWOOD LN</td>\n",
       "      <td>HOUSTON</td>\n",
       "      <td>TX</td>\n",
       "      <td>77063</td>\n",
       "      <td>5543</td>\n",
       "      <td>...</td>\n",
       "      <td>IMAGERY/OTHER</td>\n",
       "      <td>2016-09-30</td>\n",
       "      <td>http://nces.ed.gov/GLOBALLOCATOR/sch_info_popu...</td>\n",
       "      <td>preschool</td>\n",
       "      <td>1244</td>\n",
       "      <td>PK</td>\n",
       "      <td>05</td>\n",
       "      <td>4823640</td>\n",
       "      <td>65</td>\n",
       "      <td>unknow</td>\n",
       "    </tr>\n",
       "  </tbody>\n",
       "</table>\n",
       "<p>5 rows × 33 columns</p>\n",
       "</div>"
      ],
      "text/plain": [
       "           X          Y  OBJECTID        NCESID                      NAME  \\\n",
       "0 -74.062989  40.898942     19537  340000700081            MAYWOOD CAMPUS   \n",
       "1 -97.073579  36.710031     19543  402469002367              ROOSEVELT ES   \n",
       "2 -79.754242  40.493811     19544  421935007298              PIVIK EL SCH   \n",
       "3 -89.044860  36.418973     19545  470426001730  UNION CITY MIDDLE SCHOOL   \n",
       "4 -95.521884  29.724352     19546  482364002556            PINEY POINT EL   \n",
       "\n",
       "                    ADDRESS        CITY STATE    ZIP    ZIP4  ...  \\\n",
       "0        404 MAYWOOD AVENUE     MAYWOOD    NJ   7607  unknow  ...   \n",
       "1  815 EAST HIGHLAND AVENUE  PONCA CITY    OK  74601    4601  ...   \n",
       "2             151 SCHOOL RD  PITTSBURGH    PA  15239  unknow  ...   \n",
       "3       1111 HIGH SCHOOL DR  UNION CITY    TN  38261  unknow  ...   \n",
       "4          8921 PAGEWOOD LN     HOUSTON    TX  77063    5543  ...   \n",
       "\n",
       "      VAL_METHOD   VAL_DATE  \\\n",
       "0  IMAGERY/OTHER 2016-08-05   \n",
       "1  IMAGERY/OTHER 2016-08-31   \n",
       "2  IMAGERY/OTHER 2016-09-02   \n",
       "3        IMAGERY 2016-09-19   \n",
       "4  IMAGERY/OTHER 2016-09-30   \n",
       "\n",
       "                                             WEBSITE             LEVEL_  \\\n",
       "0  http://nces.ed.gov/GLOBALLOCATOR/sch_info_popu...          preschool   \n",
       "1  http://nces.ed.gov/GLOBALLOCATOR/sch_info_popu...          preschool   \n",
       "2  http://nces.ed.gov/GLOBALLOCATOR/sch_info_popu...          preschool   \n",
       "3  http://nces.ed.gov/GLOBALLOCATOR/sch_info_popu...  elementary_school   \n",
       "4  http://nces.ed.gov/GLOBALLOCATOR/sch_info_popu...          preschool   \n",
       "\n",
       "  ENROLLMENT  ST_GRADE END_GRADE  DISTRICTID  FT_TEACHER  SHELTER_ID  \n",
       "0        152        PK        05     3400007          26      unknow  \n",
       "1        441        PK        05     4024690          22      unknow  \n",
       "2        582        KG        06     4219350          33      unknow  \n",
       "3        353        06        08     4704260          21      unknow  \n",
       "4       1244        PK        05     4823640          65      unknow  \n",
       "\n",
       "[5 rows x 33 columns]"
      ]
     },
     "execution_count": 49,
     "metadata": {},
     "output_type": "execute_result"
    }
   ],
   "source": [
    "con.execute(\"SELECT * FROM schools;\").fetchdf().head()"
   ]
  },
  {
   "cell_type": "code",
   "execution_count": 53,
   "metadata": {},
   "outputs": [
    {
     "name": "stdout",
     "output_type": "stream",
     "text": [
      "CPU times: total: 1min 43s\n",
      "Wall time: 53.9 s\n"
     ]
    },
    {
     "data": {
      "text/plain": [
       "[(3856,)]"
      ]
     },
     "execution_count": 53,
     "metadata": {},
     "output_type": "execute_result"
    }
   ],
   "source": [
    "%%time\n",
    "con.execute(f\"\"\"\n",
    "create or replace table pos_house_schools as (\n",
    "with H as (SELECT *, long*cos(lat*pi()/180) as long_cos_lat FROM pos_house limit 10000),\n",
    "S as (SELECT X, Y, X*cos(Y*pi()/180) as X_cos_Y, OBJECTID, POPULATION, LEVEL_ from schools)\n",
    "SELECT\n",
    "    lat, long,\n",
    "    count(S.OBJECTID) as num_schools,\n",
    "    sum(S.POPULATION) as num_students,\n",
    "    sum(if(S.LEVEL_='preschool', 1, 0)) as preschool,\n",
    "    sum(if(S.LEVEL_='elementary_school', 1, 0)) as elementary_school,\n",
    "    sum(if(S.LEVEL_= 'middle_school', 1, 0)) as middle_school,\n",
    "    sum(if(S.LEVEL_= 'high_school', 1, 0)) as high_school\n",
    "    \n",
    "FROM H left join S on (\n",
    "    (H.long_cos_lat - S.X_cos_Y)*(H.long_cos_lat - S.X_cos_Y) + (H.lat - S.Y)*(H.lat - S.Y) < {distance_transformed}\n",
    ")\n",
    "GROUP BY lat, long\n",
    ")\n",
    "\"\"\").fetchall()"
   ]
  },
  {
   "cell_type": "code",
   "execution_count": 57,
   "metadata": {},
   "outputs": [
    {
     "data": {
      "text/html": [
       "<div>\n",
       "<style scoped>\n",
       "    .dataframe tbody tr th:only-of-type {\n",
       "        vertical-align: middle;\n",
       "    }\n",
       "\n",
       "    .dataframe tbody tr th {\n",
       "        vertical-align: top;\n",
       "    }\n",
       "\n",
       "    .dataframe thead th {\n",
       "        text-align: right;\n",
       "    }\n",
       "</style>\n",
       "<table border=\"1\" class=\"dataframe\">\n",
       "  <thead>\n",
       "    <tr style=\"text-align: right;\">\n",
       "      <th></th>\n",
       "      <th>lat</th>\n",
       "      <th>long</th>\n",
       "      <th>num_schools</th>\n",
       "      <th>num_students</th>\n",
       "      <th>preschool</th>\n",
       "      <th>elementary_school</th>\n",
       "      <th>middle_school</th>\n",
       "      <th>high_school</th>\n",
       "    </tr>\n",
       "  </thead>\n",
       "  <tbody>\n",
       "    <tr>\n",
       "      <th>0</th>\n",
       "      <td>45.6721</td>\n",
       "      <td>-122.5470</td>\n",
       "      <td>207</td>\n",
       "      <td>130908.0</td>\n",
       "      <td>99.0</td>\n",
       "      <td>33.0</td>\n",
       "      <td>51.0</td>\n",
       "      <td>24.0</td>\n",
       "    </tr>\n",
       "    <tr>\n",
       "      <th>1</th>\n",
       "      <td>45.5313</td>\n",
       "      <td>-122.6450</td>\n",
       "      <td>96</td>\n",
       "      <td>49609.0</td>\n",
       "      <td>67.0</td>\n",
       "      <td>10.0</td>\n",
       "      <td>14.0</td>\n",
       "      <td>4.0</td>\n",
       "    </tr>\n",
       "    <tr>\n",
       "      <th>2</th>\n",
       "      <td>45.6537</td>\n",
       "      <td>-122.6670</td>\n",
       "      <td>134</td>\n",
       "      <td>68676.0</td>\n",
       "      <td>74.0</td>\n",
       "      <td>16.0</td>\n",
       "      <td>22.0</td>\n",
       "      <td>20.0</td>\n",
       "    </tr>\n",
       "    <tr>\n",
       "      <th>3</th>\n",
       "      <td>45.5396</td>\n",
       "      <td>-122.6600</td>\n",
       "      <td>92</td>\n",
       "      <td>48294.0</td>\n",
       "      <td>62.0</td>\n",
       "      <td>10.0</td>\n",
       "      <td>14.0</td>\n",
       "      <td>5.0</td>\n",
       "    </tr>\n",
       "    <tr>\n",
       "      <th>4</th>\n",
       "      <td>45.6914</td>\n",
       "      <td>-122.5800</td>\n",
       "      <td>1584</td>\n",
       "      <td>949014.0</td>\n",
       "      <td>748.0</td>\n",
       "      <td>198.0</td>\n",
       "      <td>396.0</td>\n",
       "      <td>242.0</td>\n",
       "    </tr>\n",
       "    <tr>\n",
       "      <th>...</th>\n",
       "      <td>...</td>\n",
       "      <td>...</td>\n",
       "      <td>...</td>\n",
       "      <td>...</td>\n",
       "      <td>...</td>\n",
       "      <td>...</td>\n",
       "      <td>...</td>\n",
       "      <td>...</td>\n",
       "    </tr>\n",
       "    <tr>\n",
       "      <th>79685</th>\n",
       "      <td>36.0480</td>\n",
       "      <td>-95.7835</td>\n",
       "      <td>45</td>\n",
       "      <td>31682.0</td>\n",
       "      <td>30.0</td>\n",
       "      <td>6.0</td>\n",
       "      <td>2.0</td>\n",
       "      <td>3.0</td>\n",
       "    </tr>\n",
       "    <tr>\n",
       "      <th>79686</th>\n",
       "      <td>46.7327</td>\n",
       "      <td>-120.7140</td>\n",
       "      <td>7</td>\n",
       "      <td>2402.0</td>\n",
       "      <td>3.0</td>\n",
       "      <td>2.0</td>\n",
       "      <td>2.0</td>\n",
       "      <td>0.0</td>\n",
       "    </tr>\n",
       "    <tr>\n",
       "      <th>79687</th>\n",
       "      <td>37.4580</td>\n",
       "      <td>-77.4700</td>\n",
       "      <td>57</td>\n",
       "      <td>30755.0</td>\n",
       "      <td>31.0</td>\n",
       "      <td>10.0</td>\n",
       "      <td>6.0</td>\n",
       "      <td>5.0</td>\n",
       "    </tr>\n",
       "    <tr>\n",
       "      <th>79688</th>\n",
       "      <td>36.2809</td>\n",
       "      <td>-95.8639</td>\n",
       "      <td>17</td>\n",
       "      <td>13002.0</td>\n",
       "      <td>11.0</td>\n",
       "      <td>3.0</td>\n",
       "      <td>2.0</td>\n",
       "      <td>1.0</td>\n",
       "    </tr>\n",
       "    <tr>\n",
       "      <th>79689</th>\n",
       "      <td>44.0594</td>\n",
       "      <td>-123.0000</td>\n",
       "      <td>31</td>\n",
       "      <td>18050.0</td>\n",
       "      <td>15.0</td>\n",
       "      <td>8.0</td>\n",
       "      <td>7.0</td>\n",
       "      <td>1.0</td>\n",
       "    </tr>\n",
       "  </tbody>\n",
       "</table>\n",
       "<p>79690 rows × 8 columns</p>\n",
       "</div>"
      ],
      "text/plain": [
       "           lat      long  num_schools  num_students  preschool  \\\n",
       "0      45.6721 -122.5470          207      130908.0       99.0   \n",
       "1      45.5313 -122.6450           96       49609.0       67.0   \n",
       "2      45.6537 -122.6670          134       68676.0       74.0   \n",
       "3      45.5396 -122.6600           92       48294.0       62.0   \n",
       "4      45.6914 -122.5800         1584      949014.0      748.0   \n",
       "...        ...       ...          ...           ...        ...   \n",
       "79685  36.0480  -95.7835           45       31682.0       30.0   \n",
       "79686  46.7327 -120.7140            7        2402.0        3.0   \n",
       "79687  37.4580  -77.4700           57       30755.0       31.0   \n",
       "79688  36.2809  -95.8639           17       13002.0       11.0   \n",
       "79689  44.0594 -123.0000           31       18050.0       15.0   \n",
       "\n",
       "       elementary_school  middle_school  high_school  \n",
       "0                   33.0           51.0         24.0  \n",
       "1                   10.0           14.0          4.0  \n",
       "2                   16.0           22.0         20.0  \n",
       "3                   10.0           14.0          5.0  \n",
       "4                  198.0          396.0        242.0  \n",
       "...                  ...            ...          ...  \n",
       "79685                6.0            2.0          3.0  \n",
       "79686                2.0            2.0          0.0  \n",
       "79687               10.0            6.0          5.0  \n",
       "79688                3.0            2.0          1.0  \n",
       "79689                8.0            7.0          1.0  \n",
       "\n",
       "[79690 rows x 8 columns]"
      ]
     },
     "execution_count": 57,
     "metadata": {},
     "output_type": "execute_result"
    }
   ],
   "source": [
    "con.execute(\"SELECT * FROM pos_house_schools;\").fetchdf()"
   ]
  },
  {
   "cell_type": "code",
   "execution_count": 54,
   "metadata": {},
   "outputs": [
    {
     "name": "stdout",
     "output_type": "stream",
     "text": [
      "CPU times: total: 6.5 s\n",
      "Wall time: 8.37 s\n"
     ]
    },
    {
     "data": {
      "text/plain": [
       "[(56409,)]"
      ]
     },
     "execution_count": 54,
     "metadata": {},
     "output_type": "execute_result"
    }
   ],
   "source": [
    "%%time \n",
    "con.execute(f\"\"\"\n",
    "create or replace table houses as (\n",
    "with H as (SELECT * FROM housing),\n",
    "T1 as (SELECT * from pos_house_hospital),\n",
    "T2 as (SELECT * from pos_house_schools)\n",
    "SELECT *\n",
    "FROM H, T1, T2\n",
    "WHERE H.long == T1.long and H.lat == T1.lat\n",
    "      and T1.long == T2.long and T1.lat == T2.lat\n",
    ")\n",
    "\"\"\").fetchall()\n",
    "#pos_house_schools\n",
    "#T2 as (SELECT * from pos_house_schools)\n",
    "#FROM H left join T1 on ( H.long == T1.long and H.lat == T1.lat)"
   ]
  },
  {
   "cell_type": "code",
   "execution_count": 62,
   "metadata": {},
   "outputs": [],
   "source": [
    "df = con.execute(\"SELECT * FROM houses;\").fetchdf()"
   ]
  },
  {
   "cell_type": "code",
   "execution_count": 60,
   "metadata": {},
   "outputs": [
    {
     "name": "stdout",
     "output_type": "stream",
     "text": [
      "['id', 'url', 'region', 'region_url', 'price', 'type', 'sqfeet', 'beds', 'baths', 'cats_allowed', 'dogs_allowed', 'smoking_allowed', 'wheelchair_access', 'electric_vehicle_charge', 'comes_furnished', 'laundry_options', 'parking_options', 'image_url', 'description', 'lat', 'long', 'state', 'lat:1', 'long:1', 'num_hospitals', 'num_beds', 'hospital_type_general', 'hospital_type_critical', 'hospital_type_psychiatric', 'hospital_type_longterm', 'hospital_type_children', 'government_hospital', 'nonprofit_hospital', 'private_hospital', 'lat:2', 'long:2', 'num_schools', 'num_students', 'preschool', 'elementary_school', 'middle_school', 'high_school']\n"
     ]
    }
   ],
   "source": [
    "columns_names = list(df.columns)\n",
    "print(columns_names)"
   ]
  },
  {
   "cell_type": "code",
   "execution_count": 66,
   "metadata": {},
   "outputs": [],
   "source": [
    "con.close()"
   ]
  },
  {
   "cell_type": "code",
   "execution_count": 64,
   "metadata": {},
   "outputs": [
    {
     "data": {
      "text/plain": [
       "[(384977,)]"
      ]
     },
     "execution_count": 64,
     "metadata": {},
     "output_type": "execute_result"
    }
   ],
   "source": [
    "con.execute(\"select count(*) from housing\").fetchall()"
   ]
  },
  {
   "cell_type": "code",
   "execution_count": 65,
   "metadata": {},
   "outputs": [
    {
     "data": {
      "text/plain": [
       "[(382919,)]"
      ]
     },
     "execution_count": 65,
     "metadata": {},
     "output_type": "execute_result"
    }
   ],
   "source": [
    "con.execute(\"select count(*) from houses\").fetchall()"
   ]
  },
  {
   "cell_type": "code",
   "execution_count": null,
   "metadata": {},
   "outputs": [],
   "source": []
  }
 ],
 "metadata": {
  "kernelspec": {
   "display_name": "Python 3.9.13 ('venv': venv)",
   "language": "python",
   "name": "python3"
  },
  "language_info": {
   "codemirror_mode": {
    "name": "ipython",
    "version": 3
   },
   "file_extension": ".py",
   "mimetype": "text/x-python",
   "name": "python",
   "nbconvert_exporter": "python",
   "pygments_lexer": "ipython3",
   "version": "3.9.13"
  },
  "orig_nbformat": 4,
  "vscode": {
   "interpreter": {
    "hash": "c68f3bdfe64fcce2211b1df2ac4d2f2c54ba562154ace50b52cfbffa4fa15fa0"
   }
  }
 },
 "nbformat": 4,
 "nbformat_minor": 2
}
