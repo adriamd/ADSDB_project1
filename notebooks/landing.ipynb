{
 "cells": [
  {
   "cell_type": "markdown",
   "metadata": {},
   "source": [
    "# temporal landing zone to persistant landing zone"
   ]
  },
  {
   "cell_type": "markdown",
   "metadata": {},
   "source": [
    "## setup"
   ]
  },
  {
   "cell_type": "code",
   "execution_count": 60,
   "metadata": {},
   "outputs": [],
   "source": [
    "import pandas as pd\n",
    "import numpy as np\n",
    "import sys\n",
    "import os\n",
    "from datetime import datetime as dt\n",
    "import re"
   ]
  },
  {
   "cell_type": "code",
   "execution_count": 61,
   "metadata": {},
   "outputs": [],
   "source": [
    "sys.path.append('..')\n",
    "from helper import *\n",
    "\n",
    "setwd()\n",
    "Objects = Objects()"
   ]
  },
  {
   "cell_type": "code",
   "execution_count": 6,
   "metadata": {},
   "outputs": [],
   "source": [
    "now = dt.now().isoformat()"
   ]
  },
  {
   "cell_type": "markdown",
   "metadata": {},
   "source": [
    "## pipeline"
   ]
  },
  {
   "cell_type": "code",
   "execution_count": 58,
   "metadata": {},
   "outputs": [],
   "source": [
    "files_temp = os.listdir('data/landing_temp')"
   ]
  },
  {
   "cell_type": "code",
   "execution_count": 55,
   "metadata": {},
   "outputs": [],
   "source": [
    "processedFiles = []\n",
    "with open('logs/processed_data_temporal.txt', \"r\") as f0:\n",
    "    for line in f0:\n",
    "        processedFiles.append(line.rstrip())"
   ]
  },
  {
   "cell_type": "code",
   "execution_count": 59,
   "metadata": {},
   "outputs": [
    {
     "data": {
      "text/plain": [
       "['50918.csv',\n",
       " 'prc_hicp_midx__custom_3484209_spreadsheet.xlsx',\n",
       " 'prc_hicp_midx__custom_3484218_spreadsheet.xlsx',\n",
       " 'prc_hicp_midx__custom_3484234_spreadsheet.xlsx']"
      ]
     },
     "execution_count": 59,
     "metadata": {},
     "output_type": "execute_result"
    }
   ],
   "source": [
    "[file for file in files_temp if file not in processedFiles]"
   ]
  },
  {
   "cell_type": "code",
   "execution_count": 68,
   "metadata": {},
   "outputs": [
    {
     "name": "stdout",
     "output_type": "stream",
     "text": [
      "['prc_hicp_midx__custom_3484209_spreadsheet.xlsx', 'prc_hicp_midx__custom_3484218_spreadsheet.xlsx', 'prc_hicp_midx__custom_3484234_spreadsheet.xlsx']\n",
      "3484209\n",
      "3484218\n",
      "3484234\n"
     ]
    }
   ],
   "source": [
    "for datasource in Objects:\n",
    "    pattern = datasource[\"landing_temp_name\"]\n",
    "    z = [file for file in files_temp if re.match(pattern, file)]\n",
    "    print(z)\n",
    "    s = datasource[\"landing_temp_tblID\"]\n",
    "    for x in z:\n",
    "        print(re.search(s, x).group(1))\n"
   ]
  },
  {
   "cell_type": "code",
   "execution_count": 70,
   "metadata": {},
   "outputs": [
    {
     "name": "stdout",
     "output_type": "stream",
     "text": [
      "a\n"
     ]
    }
   ],
   "source": [
    "try:\n",
    "    print(re.search(\"3\", \"file\").group(1))\n",
    "except Exception:\n",
    "    print(\"a\")"
   ]
  },
  {
   "cell_type": "code",
   "execution_count": 76,
   "metadata": {},
   "outputs": [],
   "source": [
    "def landingTemp2landingPers():\n",
    "    \n",
    "    # read all the files in the landing_temp folder\n",
    "    files_temp = os.listdir('data/landing_temp')\n",
    "    # read list of processed files\n",
    "    processedFiles = []\n",
    "    with open('logs/processed_data_temporal.txt', \"r\") as f0:\n",
    "        for line in f0:\n",
    "            processedFiles.append(line.rstrip())\n",
    "    # list of files to be processed\n",
    "    files_temp = [file for file in files_temp if file not in processedFiles]\n",
    "    \n",
    "    # open file to store logs in append mode\n",
    "    f = open('logs/processed_data_temporal.txt', \"a\")\n",
    "\n",
    "    # process files\n",
    "    for datasource in Objects:\n",
    "        id = datasource[\"id\"]\n",
    "        format = datasource[\"format\"]\n",
    "\n",
    "        # select the files to be processed of the current datasource\n",
    "        pattern = datasource[\"landing_temp_name\"]\n",
    "        files_datasource = [file for file in files_temp if re.match(pattern, file)]\n",
    "\n",
    "        for file in files_datasource:\n",
    "            print(pattern)\n",
    "            print(file)\n",
    "            tbl_id = re.search(datasource[\"landing_temp_tblID\"], file).group(1) # id of the table within the dataset\n",
    "            # try ... except Exception: tbl_id = pattern -> this can be used in case the dataset contains a single table without any identifier in the name\n",
    "\n",
    "            from_file = os.path.join(\"data\", \"landing_temp\", file)\n",
    "            to_file = os.path.join(\"data\", \"landing_pers\", id, f\"{id}_{tbl_id}.{format}\")\n",
    "            !cp {from_file} {to_file}\n",
    "            storeLogTemp(file, f)\n"
   ]
  },
  {
   "cell_type": "code",
   "execution_count": 15,
   "metadata": {},
   "outputs": [
    {
     "data": {
      "text/plain": [
       "'data\\\\landing_temp\\\\temp_name'"
      ]
     },
     "execution_count": 15,
     "metadata": {},
     "output_type": "execute_result"
    }
   ],
   "source": [
    "from_file = os.path.join(\"data\", \"landing_temp\", \"temp_name\")\n",
    "from_file"
   ]
  },
  {
   "cell_type": "code",
   "execution_count": 18,
   "metadata": {},
   "outputs": [
    {
     "data": {
      "text/plain": [
       "'d:\\\\01-Cole\\\\00Master\\\\Q3-ADSDB\\\\ADSDB_project1'"
      ]
     },
     "execution_count": 18,
     "metadata": {},
     "output_type": "execute_result"
    }
   ],
   "source": [
    "os.getcwd()"
   ]
  },
  {
   "cell_type": "code",
   "execution_count": 78,
   "metadata": {},
   "outputs": [],
   "source": [
    "landingTemp2landingPers()"
   ]
  },
  {
   "cell_type": "code",
   "execution_count": 71,
   "metadata": {},
   "outputs": [],
   "source": [
    "def storeLogTemp(tbl, file):\n",
    "    file.write(tbl + \"\\n\")"
   ]
  },
  {
   "cell_type": "code",
   "execution_count": null,
   "metadata": {},
   "outputs": [],
   "source": []
  },
  {
   "cell_type": "code",
   "execution_count": 26,
   "metadata": {},
   "outputs": [
    {
     "data": {
      "text/plain": [
       "'d:\\\\01-Cole\\\\00Master\\\\Q3-ADSDB\\\\ADSDB_project1'"
      ]
     },
     "execution_count": 26,
     "metadata": {},
     "output_type": "execute_result"
    }
   ],
   "source": [
    "os.getcwd().replace(\"\\\\notebooks\", \"\")"
   ]
  },
  {
   "cell_type": "code",
   "execution_count": 29,
   "metadata": {},
   "outputs": [
    {
     "data": {
      "text/plain": [
       "'d:\\\\01-Cole\\\\00Master\\\\Q3-ADSDB\\\\ADSDB_project1'"
      ]
     },
     "execution_count": 29,
     "metadata": {},
     "output_type": "execute_result"
    }
   ],
   "source": [
    "os.getcwd()"
   ]
  },
  {
   "cell_type": "code",
   "execution_count": 81,
   "metadata": {},
   "outputs": [
    {
     "data": {
      "text/plain": [
       "'2022-10-01T21:01:22.969929'"
      ]
     },
     "execution_count": 81,
     "metadata": {},
     "output_type": "execute_result"
    }
   ],
   "source": [
    "from datetime import datetime as dt\n",
    "dt.now().isoformat()"
   ]
  },
  {
   "cell_type": "code",
   "execution_count": 84,
   "metadata": {},
   "outputs": [
    {
     "data": {
      "text/plain": [
       "'20221001-210334'"
      ]
     },
     "execution_count": 84,
     "metadata": {},
     "output_type": "execute_result"
    }
   ],
   "source": [
    "dt.now().strftime(\"%Y%m%d-%H%M%S\")"
   ]
  },
  {
   "cell_type": "code",
   "execution_count": null,
   "metadata": {},
   "outputs": [],
   "source": []
  }
 ],
 "metadata": {
  "kernelspec": {
   "display_name": "Python 3.8.3 64-bit",
   "language": "python",
   "name": "python3"
  },
  "language_info": {
   "codemirror_mode": {
    "name": "ipython",
    "version": 3
   },
   "file_extension": ".py",
   "mimetype": "text/x-python",
   "name": "python",
   "nbconvert_exporter": "python",
   "pygments_lexer": "ipython3",
   "version": "3.8.3"
  },
  "orig_nbformat": 4,
  "vscode": {
   "interpreter": {
    "hash": "9fed90340551013c636f570a45d35d44aeacbe79e790a144e11356df1790a905"
   }
  }
 },
 "nbformat": 4,
 "nbformat_minor": 2
}
