{
 "cells": [
  {
   "cell_type": "code",
   "execution_count": 99,
   "metadata": {},
   "outputs": [],
   "source": [
    "import numpy as np\n",
    "import pandas as pd\n",
    "import sys\n",
    "import os\n",
    "import duckdb"
   ]
  },
  {
   "cell_type": "code",
   "execution_count": 100,
   "metadata": {},
   "outputs": [],
   "source": [
    "sys.path.append('..')\n",
    "from helper import *\n",
    "\n",
    "setwd()\n",
    "Objects = Objects()"
   ]
  },
  {
   "cell_type": "code",
   "execution_count": 101,
   "metadata": {},
   "outputs": [
    {
     "data": {
      "text/plain": [
       "[{'id': 'eurostat',\n",
       "  'format': 'xlsx',\n",
       "  'landing_temp_name': 'prc_hicp_midx__custom_.*_spreadsheet.xlsx',\n",
       "  'landing_temp_tblID': 'prc_hicp_midx__custom_(.*)_spreadsheet.xlsx'},\n",
       " {'id': 'ine',\n",
       "  'format': 'csv',\n",
       "  'delim': ';',\n",
       "  'landing_temp_name': '50918.csv'}]"
      ]
     },
     "execution_count": 101,
     "metadata": {},
     "output_type": "execute_result"
    }
   ],
   "source": [
    "Objects"
   ]
  },
  {
   "cell_type": "code",
   "execution_count": 84,
   "metadata": {},
   "outputs": [],
   "source": [
    "# connection to duckdb\n",
    "con = duckdb.connect(database=\"data/formatted/db_formatted.db\", read_only=False)"
   ]
  },
  {
   "cell_type": "code",
   "execution_count": 91,
   "metadata": {},
   "outputs": [],
   "source": [
    "con.close()"
   ]
  },
  {
   "cell_type": "markdown",
   "metadata": {},
   "source": [
    "## select files to process"
   ]
  },
  {
   "cell_type": "code",
   "execution_count": 97,
   "metadata": {},
   "outputs": [
    {
     "data": {
      "text/plain": [
       "[]"
      ]
     },
     "execution_count": 97,
     "metadata": {},
     "output_type": "execute_result"
    }
   ],
   "source": [
    "# files already processed:\n",
    "processedFiles = []\n",
    "with open('logs/processed_data_persistant.txt', \"r\") as f0:\n",
    "    for line in f0:\n",
    "        processedFiles.append(line.rstrip())\n",
    "processedFiles"
   ]
  },
  {
   "cell_type": "code",
   "execution_count": 86,
   "metadata": {},
   "outputs": [
    {
     "name": "stdout",
     "output_type": "stream",
     "text": [
      "eurostat\n",
      "['eurostat_3484209_20221002_015650.xlsx', 'eurostat_3484218_20221002_015650.xlsx', 'eurostat_3484234_20221002_015650.xlsx']\n",
      "ine\n",
      "['ine_20221002_015650.csv']\n"
     ]
    }
   ],
   "source": [
    "# files in the temporal zone:\n",
    "for datasource in Objects:\n",
    "    id = datasource[\"id\"]\n",
    "    print(id)\n",
    "    print(os.listdir(f'data/landing_pers/{id}'))"
   ]
  },
  {
   "cell_type": "code",
   "execution_count": 96,
   "metadata": {},
   "outputs": [],
   "source": [
    "# inputs:\n",
    "# - Datasource: element of the Objects.json dictionary\n",
    "# - Database: opened duckdb connection\n",
    "# it stores the tables in the landing zone in Database\n",
    "def ProcessCSV(Datasource, ProcessedFiles = [], LogWriter = \"\"):\n",
    "\n",
    "    id = datasource[\"id\"]\n",
    "    # csv delimiter\n",
    "    delim = datasource[\"delim\"] if \"delim\" in datasource else \",\"\n",
    "    # open database connection\n",
    "    con = duckdb.connect(database=f\"data/formatted/db_{id}.db\", read_only=False)\n",
    "\n",
    "\n",
    "    # files to process:\n",
    "    files = [file for file in os.listdir(f'data/landing_pers/{id}') if not file in processedFiles]\n",
    "    \n",
    "    \n",
    "    # TODO select only files that have not been yet processed\n",
    "    for file in files:\n",
    "        tablename = file.split(\".\")[0]\n",
    "        con.execute(f\"\"\"\n",
    "            CREATE TABLE test_{tablename}\n",
    "            AS SELECT * FROM read_csv_auto(\n",
    "                './data/landing_pers/{id}/{file}',\n",
    "                HEADER = TRUE,\n",
    "                DELIM = '{delim}'\n",
    "            ) \n",
    "            \"\"\")\n",
    "    \n",
    "    # close database\n",
    "    con.close()"
   ]
  },
  {
   "cell_type": "code",
   "execution_count": 90,
   "metadata": {},
   "outputs": [
    {
     "name": "stdout",
     "output_type": "stream",
     "text": [
      "eurostat\n",
      "ine\n"
     ]
    }
   ],
   "source": [
    "for datasource in Objects:\n",
    "\n",
    "    id = datasource[\"id\"]\n",
    "    print(id)\n",
    "\n",
    "    format = datasource[\"format\"]\n",
    "    \n",
    "    if format == \"csv\":\n",
    "        ProcessCSV(datasource, con)\n",
    "    elif format == \"xlsx\":\n",
    "        ProcessXLSX(datasource)\n",
    "    else:\n",
    "        print(f\"Format {format} is not supported\\nSupported formats: csv, xlsx\")"
   ]
  },
  {
   "cell_type": "code",
   "execution_count": 103,
   "metadata": {},
   "outputs": [
    {
     "name": "stderr",
     "output_type": "stream",
     "text": [
      "d:\\01-Cole\\00Master\\Q3-ADSDB\\ADSDB_project1\\venv\\lib\\site-packages\\openpyxl\\styles\\stylesheet.py:226: UserWarning: Workbook contains no default style, apply openpyxl's default\n",
      "  warn(\"Workbook contains no default style, apply openpyxl's default\")\n"
     ]
    },
    {
     "data": {
      "text/html": [
       "<div>\n",
       "<style scoped>\n",
       "    .dataframe tbody tr th:only-of-type {\n",
       "        vertical-align: middle;\n",
       "    }\n",
       "\n",
       "    .dataframe tbody tr th {\n",
       "        vertical-align: top;\n",
       "    }\n",
       "\n",
       "    .dataframe thead th {\n",
       "        text-align: right;\n",
       "    }\n",
       "</style>\n",
       "<table border=\"1\" class=\"dataframe\">\n",
       "  <thead>\n",
       "    <tr style=\"text-align: right;\">\n",
       "      <th></th>\n",
       "      <th>Unnamed: 0</th>\n",
       "      <th>Unnamed: 1</th>\n",
       "      <th>Unnamed: 2</th>\n",
       "      <th>Unnamed: 3</th>\n",
       "    </tr>\n",
       "  </thead>\n",
       "  <tbody>\n",
       "    <tr>\n",
       "      <th>0</th>\n",
       "      <td>NaN</td>\n",
       "      <td>NaN</td>\n",
       "      <td>NaN</td>\n",
       "      <td>NaN</td>\n",
       "    </tr>\n",
       "    <tr>\n",
       "      <th>1</th>\n",
       "      <td>NaN</td>\n",
       "      <td>NaN</td>\n",
       "      <td>NaN</td>\n",
       "      <td>NaN</td>\n",
       "    </tr>\n",
       "    <tr>\n",
       "      <th>2</th>\n",
       "      <td>NaN</td>\n",
       "      <td>NaN</td>\n",
       "      <td>NaN</td>\n",
       "      <td>NaN</td>\n",
       "    </tr>\n",
       "    <tr>\n",
       "      <th>3</th>\n",
       "      <td>NaN</td>\n",
       "      <td>NaN</td>\n",
       "      <td>NaN</td>\n",
       "      <td>NaN</td>\n",
       "    </tr>\n",
       "    <tr>\n",
       "      <th>4</th>\n",
       "      <td>HICP - monthly data (index) [PRC_HICP_MIDX__cu...</td>\n",
       "      <td>NaN</td>\n",
       "      <td>NaN</td>\n",
       "      <td>NaN</td>\n",
       "    </tr>\n",
       "    <tr>\n",
       "      <th>5</th>\n",
       "      <td>Open product page</td>\n",
       "      <td>Open in Data Browser</td>\n",
       "      <td>NaN</td>\n",
       "      <td>NaN</td>\n",
       "    </tr>\n",
       "    <tr>\n",
       "      <th>6</th>\n",
       "      <td>Description:</td>\n",
       "      <td>-</td>\n",
       "      <td>NaN</td>\n",
       "      <td>NaN</td>\n",
       "    </tr>\n",
       "    <tr>\n",
       "      <th>7</th>\n",
       "      <td>NaN</td>\n",
       "      <td>NaN</td>\n",
       "      <td>NaN</td>\n",
       "      <td>NaN</td>\n",
       "    </tr>\n",
       "    <tr>\n",
       "      <th>8</th>\n",
       "      <td>Last update of data:</td>\n",
       "      <td>NaN</td>\n",
       "      <td>NaN</td>\n",
       "      <td>30/09/2022 11:00</td>\n",
       "    </tr>\n",
       "    <tr>\n",
       "      <th>9</th>\n",
       "      <td>Last change of data structure:</td>\n",
       "      <td>NaN</td>\n",
       "      <td>NaN</td>\n",
       "      <td>30/09/2022 11:00</td>\n",
       "    </tr>\n",
       "    <tr>\n",
       "      <th>10</th>\n",
       "      <td>NaN</td>\n",
       "      <td>NaN</td>\n",
       "      <td>NaN</td>\n",
       "      <td>NaN</td>\n",
       "    </tr>\n",
       "    <tr>\n",
       "      <th>11</th>\n",
       "      <td>NaN</td>\n",
       "      <td>Institutional source(s)</td>\n",
       "      <td>NaN</td>\n",
       "      <td>NaN</td>\n",
       "    </tr>\n",
       "    <tr>\n",
       "      <th>12</th>\n",
       "      <td>NaN</td>\n",
       "      <td>NaN</td>\n",
       "      <td>Eurostat</td>\n",
       "      <td>NaN</td>\n",
       "    </tr>\n",
       "    <tr>\n",
       "      <th>13</th>\n",
       "      <td>NaN</td>\n",
       "      <td>Contents</td>\n",
       "      <td>Time frequency</td>\n",
       "      <td>Unit of measure</td>\n",
       "    </tr>\n",
       "    <tr>\n",
       "      <th>14</th>\n",
       "      <td>NaN</td>\n",
       "      <td>Sheet 1</td>\n",
       "      <td>Monthly</td>\n",
       "      <td>Index, 2015=100</td>\n",
       "    </tr>\n",
       "  </tbody>\n",
       "</table>\n",
       "</div>"
      ],
      "text/plain": [
       "                                           Unnamed: 0  \\\n",
       "0                                                 NaN   \n",
       "1                                                 NaN   \n",
       "2                                                 NaN   \n",
       "3                                                 NaN   \n",
       "4   HICP - monthly data (index) [PRC_HICP_MIDX__cu...   \n",
       "5                                   Open product page   \n",
       "6                                       Description:    \n",
       "7                                                 NaN   \n",
       "8                               Last update of data:    \n",
       "9                     Last change of data structure:    \n",
       "10                                                NaN   \n",
       "11                                                NaN   \n",
       "12                                                NaN   \n",
       "13                                                NaN   \n",
       "14                                                NaN   \n",
       "\n",
       "                 Unnamed: 1      Unnamed: 2        Unnamed: 3  \n",
       "0                       NaN             NaN               NaN  \n",
       "1                       NaN             NaN               NaN  \n",
       "2                       NaN             NaN               NaN  \n",
       "3                       NaN             NaN               NaN  \n",
       "4                       NaN             NaN               NaN  \n",
       "5      Open in Data Browser             NaN               NaN  \n",
       "6                         -             NaN               NaN  \n",
       "7                       NaN             NaN               NaN  \n",
       "8                       NaN             NaN  30/09/2022 11:00  \n",
       "9                       NaN             NaN  30/09/2022 11:00  \n",
       "10                      NaN             NaN               NaN  \n",
       "11  Institutional source(s)             NaN               NaN  \n",
       "12                      NaN        Eurostat               NaN  \n",
       "13                 Contents  Time frequency   Unit of measure  \n",
       "14                  Sheet 1         Monthly   Index, 2015=100  "
      ]
     },
     "execution_count": 103,
     "metadata": {},
     "output_type": "execute_result"
    }
   ],
   "source": [
    "import pandas as pd\n",
    "pd.read_excel('data/landing_pers/eurostat/eurostat_3484209_20221002_015650.xlsx')"
   ]
  },
  {
   "cell_type": "code",
   "execution_count": 89,
   "metadata": {},
   "outputs": [],
   "source": [
    "import pandas as pd\n",
    "def ProcessXLSX(Datasource):\n",
    "    id = Datasource[\"id\"]\n",
    "    \n",
    "    # TODO select only files that have not been yet processed\n",
    "    for table in os.listdir(f'data/landing_pers/{id}'):\n",
    "        pass\n",
    "        #df = pd.read_excel(f'data/landing_pers/{id}/{table}')\n",
    "        #display(df.head())\n",
    "\n",
    "ProcessXLSX(Objects[0])"
   ]
  },
  {
   "cell_type": "code",
   "execution_count": null,
   "metadata": {},
   "outputs": [],
   "source": []
  },
  {
   "cell_type": "markdown",
   "metadata": {},
   "source": [
    "## useful queries to debug"
   ]
  },
  {
   "cell_type": "code",
   "execution_count": 62,
   "metadata": {},
   "outputs": [
    {
     "data": {
      "text/plain": [
       "[('test',), ('test_ine_20221001_231336',)]"
      ]
     },
     "execution_count": 62,
     "metadata": {},
     "output_type": "execute_result"
    }
   ],
   "source": [
    "con.execute(\"SHOW TABLES\")\n",
    "con.fetchall()"
   ]
  },
  {
   "cell_type": "code",
   "execution_count": 64,
   "metadata": {},
   "outputs": [
    {
     "data": {
      "text/plain": [
       "[('Provincias', 'VARCHAR', 'YES', None, None, None),\n",
       " ('Grupos ECOICOP', 'VARCHAR', 'YES', None, None, None),\n",
       " ('Tipo de dato', 'VARCHAR', 'YES', None, None, None),\n",
       " ('Periodo', 'VARCHAR', 'YES', None, None, None),\n",
       " ('Total', 'VARCHAR', 'YES', None, None, None)]"
      ]
     },
     "execution_count": 64,
     "metadata": {},
     "output_type": "execute_result"
    }
   ],
   "source": [
    "con.execute(\"DESCRIBE test_ine_20221001_231336\")\n",
    "con.fetchall()"
   ]
  },
  {
   "cell_type": "code",
   "execution_count": 68,
   "metadata": {},
   "outputs": [
    {
     "data": {
      "text/plain": [
       "<duckdb.DuckDBPyConnection at 0x1a6d3826ab0>"
      ]
     },
     "execution_count": 68,
     "metadata": {},
     "output_type": "execute_result"
    }
   ],
   "source": [
    "con.execute(\"DROP TABLE test_ine_20221001_231336\")"
   ]
  },
  {
   "cell_type": "code",
   "execution_count": 71,
   "metadata": {},
   "outputs": [
    {
     "data": {
      "text/plain": [
       "[(686244,)]"
      ]
     },
     "execution_count": 71,
     "metadata": {},
     "output_type": "execute_result"
    }
   ],
   "source": [
    "# con.execute()\n",
    "con.description\n",
    "con.fetchall()"
   ]
  },
  {
   "cell_type": "code",
   "execution_count": 72,
   "metadata": {},
   "outputs": [
    {
     "data": {
      "text/plain": [
       "<duckdb.DuckDBPyConnection at 0x1a6d3826ab0>"
      ]
     },
     "execution_count": 72,
     "metadata": {},
     "output_type": "execute_result"
    }
   ],
   "source": [
    "con.execute(\"SELECT * FROM test LIMIT 10\")\n",
    "con.fetchall()"
   ]
  },
  {
   "cell_type": "code",
   "execution_count": 80,
   "metadata": {},
   "outputs": [],
   "source": [
    "con.close()"
   ]
  },
  {
   "cell_type": "code",
   "execution_count": null,
   "metadata": {},
   "outputs": [],
   "source": []
  }
 ],
 "metadata": {
  "kernelspec": {
   "display_name": "Python 3.9.13 ('venv': venv)",
   "language": "python",
   "name": "python3"
  },
  "language_info": {
   "codemirror_mode": {
    "name": "ipython",
    "version": 3
   },
   "file_extension": ".py",
   "mimetype": "text/x-python",
   "name": "python",
   "nbconvert_exporter": "python",
   "pygments_lexer": "ipython3",
   "version": "3.9.13"
  },
  "orig_nbformat": 4,
  "vscode": {
   "interpreter": {
    "hash": "c68f3bdfe64fcce2211b1df2ac4d2f2c54ba562154ace50b52cfbffa4fa15fa0"
   }
  }
 },
 "nbformat": 4,
 "nbformat_minor": 2
}
