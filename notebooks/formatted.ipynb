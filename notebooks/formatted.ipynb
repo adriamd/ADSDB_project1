{
 "cells": [
  {
   "cell_type": "code",
   "execution_count": 99,
   "metadata": {},
   "outputs": [],
   "source": [
    "import numpy as np\n",
    "import pandas as pd\n",
    "import sys\n",
    "import os\n",
    "import duckdb"
   ]
  },
  {
   "cell_type": "code",
   "execution_count": 100,
   "metadata": {},
   "outputs": [],
   "source": [
    "sys.path.append('..')\n",
    "from helper import *\n",
    "\n",
    "setwd()\n",
    "Objects = Objects()"
   ]
  },
  {
   "cell_type": "code",
   "execution_count": 84,
   "metadata": {},
   "outputs": [],
   "source": [
    "# connection to duckdb\n",
    "con = duckdb.connect(database=\"data/formatted/db_formatted.db\", read_only=False)"
   ]
  },
  {
   "cell_type": "code",
   "execution_count": 91,
   "metadata": {},
   "outputs": [],
   "source": [
    "con.close()"
   ]
  },
  {
   "cell_type": "markdown",
   "metadata": {},
   "source": [
    "## select files to process"
   ]
  },
  {
   "cell_type": "code",
   "execution_count": 97,
   "metadata": {},
   "outputs": [
    {
     "data": {
      "text/plain": [
       "[]"
      ]
     },
     "execution_count": 97,
     "metadata": {},
     "output_type": "execute_result"
    }
   ],
   "source": [
    "# files already processed:\n",
    "processedFiles = []\n",
    "with open('logs/processed_data_persistant.txt', \"r\") as f0:\n",
    "    for line in f0:\n",
    "        processedFiles.append(line.rstrip())\n",
    "processedFiles"
   ]
  },
  {
   "cell_type": "code",
   "execution_count": null,
   "metadata": {},
   "outputs": [],
   "source": [
    "# files in the temporal zone:\n",
    "for datasource in Objects:\n",
    "    id = datasource[\"id\"]\n",
    "    print(id)\n",
    "    print(os.listdir(f'data/landing_pers/{id}'))"
   ]
  },
  {
   "cell_type": "code",
   "execution_count": 96,
   "metadata": {},
   "outputs": [],
   "source": [
    "# inputs:\n",
    "# - Datasource: element of the Objects.json dictionary\n",
    "# - Database: opened duckdb connection\n",
    "# it stores the tables in the landing zone in Database\n",
    "def ProcessCSV(Datasource, ProcessedFiles = [], LogWriter = \"\"):\n",
    "\n",
    "    id = datasource[\"id\"]\n",
    "    # csv delimiter\n",
    "    delim = datasource[\"delim\"] if \"delim\" in datasource else \",\"\n",
    "    # open database connection\n",
    "    con = duckdb.connect(database=f\"data/formatted/db_{id}.db\", read_only=False)\n",
    "\n",
    "\n",
    "    # files to process:\n",
    "    files = [file for file in os.listdir(f'data/landing_pers/{id}') if not file in processedFiles]\n",
    "    \n",
    "    \n",
    "    # TODO select only files that have not been yet processed\n",
    "    for file in files:\n",
    "        tablename = file.split(\".\")[0]\n",
    "        con.execute(f\"\"\"\n",
    "            CREATE TABLE test_{tablename}\n",
    "            AS SELECT * FROM read_csv_auto(\n",
    "                './data/landing_pers/{id}/{file}',\n",
    "                HEADER = TRUE,\n",
    "                DELIM = '{delim}'\n",
    "            ) \n",
    "            \"\"\")\n",
    "    \n",
    "    # close database\n",
    "    con.close()"
   ]
  },
  {
   "cell_type": "code",
   "execution_count": null,
   "metadata": {},
   "outputs": [],
   "source": [
    "for datasource in Objects:\n",
    "\n",
    "    id = datasource[\"id\"]\n",
    "    print(id)\n",
    "\n",
    "    format = datasource[\"format\"]\n",
    "    \n",
    "    if format == \"csv\":\n",
    "        ProcessCSV(datasource, con)\n",
    "    elif format == \"xlsx\":\n",
    "        ProcessXLSX(datasource)\n",
    "    else:\n",
    "        print(f\"Format {format} is not supported\\nSupported formats: csv, xlsx\")"
   ]
  },
  {
   "cell_type": "code",
   "execution_count": 89,
   "metadata": {},
   "outputs": [],
   "source": [
    "import pandas as pd\n",
    "def ProcessXLSX(Datasource):\n",
    "    id = Datasource[\"id\"]\n",
    "    \n",
    "    # TODO select only files that have not been yet processed\n",
    "    for table in os.listdir(f'data/landing_pers/{id}'):\n",
    "        pass\n",
    "        #df = pd.read_excel(f'data/landing_pers/{id}/{table}')\n",
    "        #display(df.head())\n",
    "\n",
    "ProcessXLSX(Objects[0])"
   ]
  },
  {
   "cell_type": "markdown",
   "metadata": {},
   "source": [
    "## useful queries to debug"
   ]
  },
  {
   "cell_type": "code",
   "execution_count": 62,
   "metadata": {},
   "outputs": [
    {
     "data": {
      "text/plain": [
       "[('test',), ('test_ine_20221001_231336',)]"
      ]
     },
     "execution_count": 62,
     "metadata": {},
     "output_type": "execute_result"
    }
   ],
   "source": [
    "con.execute(\"SHOW TABLES\")\n",
    "con.fetchall()"
   ]
  },
  {
   "cell_type": "code",
   "execution_count": 64,
   "metadata": {},
   "outputs": [
    {
     "data": {
      "text/plain": [
       "[('Provincias', 'VARCHAR', 'YES', None, None, None),\n",
       " ('Grupos ECOICOP', 'VARCHAR', 'YES', None, None, None),\n",
       " ('Tipo de dato', 'VARCHAR', 'YES', None, None, None),\n",
       " ('Periodo', 'VARCHAR', 'YES', None, None, None),\n",
       " ('Total', 'VARCHAR', 'YES', None, None, None)]"
      ]
     },
     "execution_count": 64,
     "metadata": {},
     "output_type": "execute_result"
    }
   ],
   "source": [
    "con.execute(\"DESCRIBE test_ine_20221001_231336\")\n",
    "con.fetchall()"
   ]
  },
  {
   "cell_type": "code",
   "execution_count": 68,
   "metadata": {},
   "outputs": [
    {
     "data": {
      "text/plain": [
       "<duckdb.DuckDBPyConnection at 0x1a6d3826ab0>"
      ]
     },
     "execution_count": 68,
     "metadata": {},
     "output_type": "execute_result"
    }
   ],
   "source": [
    "con.execute(\"DROP TABLE test_ine_20221001_231336\")"
   ]
  },
  {
   "cell_type": "code",
   "execution_count": 71,
   "metadata": {},
   "outputs": [
    {
     "data": {
      "text/plain": [
       "[(686244,)]"
      ]
     },
     "execution_count": 71,
     "metadata": {},
     "output_type": "execute_result"
    }
   ],
   "source": [
    "# con.execute()\n",
    "con.description\n",
    "con.fetchall()"
   ]
  },
  {
   "cell_type": "code",
   "execution_count": 72,
   "metadata": {},
   "outputs": [
    {
     "data": {
      "text/plain": [
       "<duckdb.DuckDBPyConnection at 0x1a6d3826ab0>"
      ]
     },
     "execution_count": 72,
     "metadata": {},
     "output_type": "execute_result"
    }
   ],
   "source": [
    "con.execute(\"SELECT * FROM test LIMIT 10\")\n",
    "con.fetchall()"
   ]
  },
  {
   "cell_type": "code",
   "execution_count": 80,
   "metadata": {},
   "outputs": [],
   "source": [
    "con.close()"
   ]
  },
  {
   "cell_type": "code",
   "execution_count": null,
   "metadata": {},
   "outputs": [],
   "source": []
  }
 ],
 "metadata": {
  "kernelspec": {
   "display_name": "Python 3.10.4 ('ADSDB')",
   "language": "python",
   "name": "python3"
  },
  "language_info": {
   "codemirror_mode": {
    "name": "ipython",
    "version": 3
   },
   "file_extension": ".py",
   "mimetype": "text/x-python",
   "name": "python",
   "nbconvert_exporter": "python",
   "pygments_lexer": "ipython3",
   "version": "3.10.4"
  },
  "orig_nbformat": 4,
  "vscode": {
   "interpreter": {
    "hash": "13fd38f2f33eca4e23b7322ee785598c5f7008e6f62f63fc1fbd3512333f5b15"
   }
  }
 },
 "nbformat": 4,
 "nbformat_minor": 2
}
